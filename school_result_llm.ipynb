{
 "cells": [
  {
   "cell_type": "markdown",
   "id": "c368b0e6",
   "metadata": {},
   "source": [
    "#### Setting up Google Palm LLM & API Key"
   ]
  },
  {
   "cell_type": "code",
   "execution_count": 224,
   "id": "e6b28717",
   "metadata": {},
   "outputs": [],
   "source": [
    "from langchain.llms import GooglePalm\n",
    "\n",
    "api_key = \"Your API Key\"\n",
    "\n",
    "llm = GooglePalm(google_api_key = api_key, temperature = 0.2)"
   ]
  },
  {
   "cell_type": "code",
   "execution_count": 8,
   "id": "28948970",
   "metadata": {},
   "outputs": [
    {
     "name": "stdout",
     "output_type": "stream",
     "text": [
      "**5 Types of Changes Needed in School to Improve Results**\n",
      "\n",
      "1. **Increased teacher training and support.**\n",
      "2. **More resources for students and schools.**\n",
      "3. **Changes to the way students are taught.**\n",
      "4. **Increased parental involvement.**\n",
      "5. **A focus on student success.**\n"
     ]
    }
   ],
   "source": [
    "view = llm(\"what type of changes needed in school result, give answer in 5 lines\")\n",
    "print(view)"
   ]
  },
  {
   "cell_type": "markdown",
   "id": "224874a9",
   "metadata": {},
   "source": [
    "### Connect with database and ask some basic questions\n"
   ]
  },
  {
   "cell_type": "code",
   "execution_count": 9,
   "id": "8ba3ebca",
   "metadata": {},
   "outputs": [],
   "source": [
    "from langchain.utilities import SQLDatabase"
   ]
  },
  {
   "cell_type": "code",
   "execution_count": 10,
   "id": "6025c453",
   "metadata": {},
   "outputs": [
    {
     "name": "stdout",
     "output_type": "stream",
     "text": [
      "\n",
      "CREATE TABLE marks (\n",
      "\tmark_id INTEGER NOT NULL, \n",
      "\tstudent_id VARCHAR(10), \n",
      "\tsubject_code VARCHAR(30), \n",
      "\tsubject_name VARCHAR(100), \n",
      "\tmarks_obtained INTEGER, \n",
      "\tgrade CHAR(1), \n",
      "\tPRIMARY KEY (mark_id), \n",
      "\tCONSTRAINT marks_ibfk_1 FOREIGN KEY(student_id) REFERENCES students (student_id), \n",
      "\tCONSTRAINT marks_ibfk_2 FOREIGN KEY(subject_code) REFERENCES teachers (teacher_id)\n",
      ")DEFAULT CHARSET=utf8mb4 ENGINE=InnoDB COLLATE utf8mb4_0900_ai_ci\n",
      "\n",
      "/*\n",
      "3 rows from marks table:\n",
      "mark_id\tstudent_id\tsubject_code\tsubject_name\tmarks_obtained\tgrade\n",
      "1\tSI01\tEN\tEnglish\t82\tA\n",
      "2\tSI01\tCO\tComputer\t58\tD\n",
      "3\tSI01\tHI\tHistory\t49\tE\n",
      "*/\n",
      "\n",
      "\n",
      "CREATE TABLE students (\n",
      "\tstudent_id VARCHAR(10) NOT NULL, \n",
      "\tstudent_name VARCHAR(100), \n",
      "\tstandard ENUM('6th','7th','8th'), \n",
      "\tgender ENUM('Male','Female','Other'), \n",
      "\tcoaching_class ENUM('Yes','No'), \n",
      "\tPRIMARY KEY (student_id)\n",
      ")DEFAULT CHARSET=utf8mb4 ENGINE=InnoDB COLLATE utf8mb4_0900_ai_ci\n",
      "\n",
      "/*\n",
      "3 rows from students table:\n",
      "student_id\tstudent_name\tstandard\tgender\tcoaching_class\n",
      "EI01\tPiyusha Kadam\t8th\tFemale\tNo\n",
      "EI02\tAkash Gujar\t8th\tMale\tYes\n",
      "EI03\tNeha Gupta\t8th\tFemale\tNo\n",
      "*/\n",
      "\n",
      "\n",
      "CREATE TABLE teachers (\n",
      "\tteacher_id VARCHAR(10) NOT NULL, \n",
      "\tteacher_name VARCHAR(100), \n",
      "\tsubject_taught VARCHAR(100), \n",
      "\tPRIMARY KEY (teacher_id)\n",
      ")DEFAULT CHARSET=utf8mb4 ENGINE=InnoDB COLLATE utf8mb4_0900_ai_ci\n",
      "\n",
      "/*\n",
      "3 rows from teachers table:\n",
      "teacher_id\tteacher_name\tsubject_taught\n",
      "CO\tMaria DeSouza\tComputer\n",
      "EN\tRajat Verma\tEnglish\n",
      "HI\tSohel Khan\tHistory\n",
      "*/\n"
     ]
    }
   ],
   "source": [
    "db_user = \"root\"\n",
    "db_password = \"Infi07\"\n",
    "db_host = \"localhost\"\n",
    "db_name = \"school_result\"\n",
    "\n",
    "db = SQLDatabase.from_uri(f\"mysql+pymysql://{db_user}:{db_password}@{db_host}/{db_name}\",sample_rows_in_table_info=3)\n",
    "print(db.table_info)"
   ]
  },
  {
   "cell_type": "code",
   "execution_count": null,
   "id": "913acc00",
   "metadata": {},
   "outputs": [],
   "source": []
  },
  {
   "cell_type": "code",
   "execution_count": 57,
   "id": "8e340896",
   "metadata": {},
   "outputs": [],
   "source": [
    "# create sql database chain, which take two add llm and db\n",
    "# we can one more para which is varbose for extra information, squery info\n",
    "\n",
    "from langchain_experimental.sql import SQLDatabaseChain\n",
    "\n",
    "db_chain = SQLDatabaseChain.from_llm(llm, db, verbose=True)"
   ]
  },
  {
   "cell_type": "code",
   "execution_count": 95,
   "id": "72f3de9a",
   "metadata": {},
   "outputs": [
    {
     "name": "stdout",
     "output_type": "stream",
     "text": [
      "\n",
      "\n",
      "\u001b[1m> Entering new SQLDatabaseChain chain...\u001b[0m\n",
      "Find out which subject Ankita Mundada teaches?\n",
      "SQLQuery:\u001b[32;1m\u001b[1;3mSELECT subject_taught FROM teachers WHERE teacher_name = 'Ankita Mundada'\u001b[0m\n",
      "SQLResult: \u001b[33;1m\u001b[1;3m[('Maths',)]\u001b[0m\n",
      "Answer:\u001b[32;1m\u001b[1;3mMaths\u001b[0m\n",
      "\u001b[1m> Finished chain.\u001b[0m\n"
     ]
    }
   ],
   "source": [
    "# \"Find out which subject Ankita Mundada teaches\"\n",
    "\n",
    "qu1 = db_chain.run(\"Find out which subject Ankita Mundada teaches?\")"
   ]
  },
  {
   "cell_type": "code",
   "execution_count": 96,
   "id": "172beb5f",
   "metadata": {},
   "outputs": [
    {
     "name": "stdout",
     "output_type": "stream",
     "text": [
      "\n",
      "\n",
      "\u001b[1m> Entering new SQLDatabaseChain chain...\u001b[0m\n",
      "SELECT s.student_id, s.student_name, ROUND((SUM(m.marks_obtained) / COUNT(m.mark_id)), 2) AS percentage FROM students s JOIN marks m USING(student_id) WHERE s.student_id = 'SI07';\n",
      "SQLQuery:\u001b[32;1m\u001b[1;3mSELECT s.student_id, s.student_name, ROUND((SUM(m.marks_obtained) / COUNT(m.mark_id)), 2) AS percentage FROM students s JOIN marks m USING(student_id) WHERE s.student_id = 'SI07';\u001b[0m\n",
      "SQLResult: \u001b[33;1m\u001b[1;3m[('SI07', 'Kabir Thapar', Decimal('49.20'))]\u001b[0m\n",
      "Answer:\u001b[32;1m\u001b[1;3mKabir Thapar, 49.20\u001b[0m\n",
      "\u001b[1m> Finished chain.\u001b[0m\n"
     ]
    }
   ],
   "source": [
    "# \"what is percentage of student id SI07\"\n",
    "\n",
    "qu2 = db_chain.run(\"SELECT s.student_id, s.student_name, ROUND((SUM(m.marks_obtained) / COUNT(m.mark_id)), 2) AS percentage FROM students s JOIN marks m USING(student_id) WHERE s.student_id = 'SI07';\")"
   ]
  },
  {
   "cell_type": "code",
   "execution_count": 70,
   "id": "9fe83970",
   "metadata": {},
   "outputs": [
    {
     "name": "stdout",
     "output_type": "stream",
     "text": [
      "\n",
      "\n",
      "\u001b[1m> Entering new SQLDatabaseChain chain...\u001b[0m\n",
      "find out who got the highest marks in Maths among 8th standard students and how many marks they scored\n",
      "SQLQuery:\u001b[32;1m\u001b[1;3mSELECT student_name, marks_obtained FROM marks JOIN students ON marks.student_id = students.student_id WHERE subject_name = 'Maths' AND standard = '8th' ORDER BY marks_obtained DESC LIMIT 1\u001b[0m\n",
      "SQLResult: \u001b[33;1m\u001b[1;3m[('Nikhil Pandit', 100)]\u001b[0m\n",
      "Answer:\u001b[32;1m\u001b[1;3mNikhil Pandit scored 100 marks in Maths\u001b[0m\n",
      "\u001b[1m> Finished chain.\u001b[0m\n",
      "Nikhil Pandit scored 100 marks in Maths\n"
     ]
    }
   ],
   "source": [
    "#  qu3 find out who got the highest marks in Maths among 8th standard students and how many marks they scored.\n",
    "\n",
    "qu3 = db_chain.run(\"find out who got the highest marks in Maths among 8th standard students and how many marks they scored\")\n",
    "print(qu3)"
   ]
  },
  {
   "cell_type": "code",
   "execution_count": 72,
   "id": "c68e0d57",
   "metadata": {},
   "outputs": [
    {
     "name": "stdout",
     "output_type": "stream",
     "text": [
      "\n",
      "\n",
      "\u001b[1m> Entering new SQLDatabaseChain chain...\u001b[0m\n",
      "find the average marks in English of 7th standard students\n",
      "SQLQuery:\u001b[32;1m\u001b[1;3mSELECT AVG(marks_obtained) FROM marks WHERE subject_name = 'English' AND student_id IN (SELECT student_id FROM students WHERE standard = '7th')\u001b[0m\n",
      "SQLResult: \u001b[33;1m\u001b[1;3m[(Decimal('69.3200'),)]\u001b[0m\n",
      "Answer:\u001b[32;1m\u001b[1;3m69.32\u001b[0m\n",
      "\u001b[1m> Finished chain.\u001b[0m\n"
     ]
    }
   ],
   "source": [
    "# Find the average marks in English of 7th standard students\n",
    "\n",
    "qu4 = db_chain.run(\"Find the average marks in English of 7th standard students\")"
   ]
  },
  {
   "cell_type": "code",
   "execution_count": 76,
   "id": "63a55031",
   "metadata": {},
   "outputs": [
    {
     "name": "stdout",
     "output_type": "stream",
     "text": [
      "\n",
      "\n",
      "\u001b[1m> Entering new SQLDatabaseChain chain...\u001b[0m\n",
      "find the average marks of students taught by Sohel Khan per standard\n",
      "SQLQuery:\u001b[32;1m\u001b[1;3mSELECT AVG(marks_obtained) AS average_marks, standard FROM marks JOIN students ON marks.student_id = students.student_id JOIN teachers ON marks.subject_code = teachers.teacher_id WHERE teachers.teacher_name = 'Sohel Khan' GROUP BY standard\u001b[0m\n",
      "SQLResult: \u001b[33;1m\u001b[1;3m[(Decimal('71.2800'), '6th'), (Decimal('58.2800'), '7th'), (Decimal('64.7200'), '8th')]\u001b[0m\n",
      "Answer:\u001b[32;1m\u001b[1;3m(71.2800, 6th), (58.2800, 7th), (64.7200, 8th)\u001b[0m\n",
      "\u001b[1m> Finished chain.\u001b[0m\n"
     ]
    }
   ],
   "source": [
    "# What is the average marks per standard for the subject taught by Sohel Khan\n",
    "\n",
    "qu5 = db_chain.run(\"find the average marks of students taught by Sohel Khan per standard\")"
   ]
  },
  {
   "cell_type": "code",
   "execution_count": 83,
   "id": "ea794e2f",
   "metadata": {},
   "outputs": [
    {
     "name": "stdout",
     "output_type": "stream",
     "text": [
      "\n",
      "\n",
      "\u001b[1m> Entering new SQLDatabaseChain chain...\u001b[0m\n",
      " SELECT COUNT(*) AS num_students_above_70_percent\n",
      "FROM ( SELECT s.student_id FROM students s JOIN marks m ON s.student_id = m.student_id WHERE s.standard = '7th'\n",
      "    GROUP BY s.student_id HAVING ROUND((SUM(m.marks_obtained) / (COUNT(m.mark_id) * 100)) * 100, 2) > 70) AS students_above_70_percent;\n",
      "SQLQuery:\u001b[32;1m\u001b[1;3mSELECT COUNT(*) AS num_students_above_70_percent\n",
      "FROM ( SELECT s.student_id FROM students s JOIN marks m ON s.student_id = m.student_id WHERE s.standard = '7th'\n",
      "    GROUP BY s.student_id HAVING ROUND((SUM(m.marks_obtained) / (COUNT(m.mark_id) * 100)) * 100, 2) > 70) AS students_above_70_percent;\u001b[0m\n",
      "SQLResult: \u001b[33;1m\u001b[1;3m[(7,)]\u001b[0m\n",
      "Answer:\u001b[32;1m\u001b[1;3m7\u001b[0m\n",
      "\u001b[1m> Finished chain.\u001b[0m\n"
     ]
    }
   ],
   "source": [
    "# \"Find out how many students got more than 70% in class 7th\"\n",
    "\n",
    "qu6 = db_chain.run(\"\"\" SELECT COUNT(*) AS num_students_above_70_percent\n",
    "    FROM ( SELECT s.student_id FROM students s JOIN marks m ON s.student_id = m.student_id WHERE s.standard = '7th'\n",
    "    GROUP BY s.student_id HAVING ROUND((SUM(m.marks_obtained) / (COUNT(m.mark_id) * 100)) * 100, 2) > 70) AS students_above_70_percent;\"\"\")"
   ]
  },
  {
   "cell_type": "code",
   "execution_count": 159,
   "id": "362edee5",
   "metadata": {},
   "outputs": [
    {
     "name": "stdout",
     "output_type": "stream",
     "text": [
      "\n",
      "\n",
      "\u001b[1m> Entering new SQLDatabaseChain chain...\u001b[0m\n",
      "Give information of student id SI02\n",
      "SQLQuery:\u001b[32;1m\u001b[1;3mSELECT student_name, standard, gender, coaching_class FROM students WHERE student_id = 'SI02'\u001b[0m\n",
      "SQLResult: \u001b[33;1m\u001b[1;3m[('Ganesh Malhotra', '6th', 'Male', 'Yes')]\u001b[0m\n",
      "Answer:\u001b[32;1m\u001b[1;3mGanesh Malhotra, 6th, Male, Yes\u001b[0m\n",
      "\u001b[1m> Finished chain.\u001b[0m\n"
     ]
    }
   ],
   "source": [
    "# \"Give information of student id SI02\"\n",
    "\n",
    "qu7 = db_chain.run(\"Give information of student id SI02\")"
   ]
  },
  {
   "cell_type": "code",
   "execution_count": 90,
   "id": "6960e2bf",
   "metadata": {},
   "outputs": [
    {
     "name": "stdout",
     "output_type": "stream",
     "text": [
      "\n",
      "\n",
      "\u001b[1m> Entering new SQLDatabaseChain chain...\u001b[0m\n",
      "How many students gets A grade in class 6th\n",
      "SQLQuery:\u001b[32;1m\u001b[1;3mSELECT COUNT(*) FROM marks m JOIN students s ON m.student_id = s.student_id WHERE s.standard = '6th' AND m.grade = 'A'\u001b[0m\n",
      "SQLResult: \u001b[33;1m\u001b[1;3m[(35,)]\u001b[0m\n",
      "Answer:\u001b[32;1m\u001b[1;3m35\u001b[0m\n",
      "\u001b[1m> Finished chain.\u001b[0m\n"
     ]
    }
   ],
   "source": [
    "# \"find out in how many sunject students get an A grade in class 6th\"\n",
    "\n",
    "qu8 = db_chain.run(\"How many students gets A grade in class 6th\")"
   ]
  },
  {
   "cell_type": "code",
   "execution_count": 93,
   "id": "852b95ce",
   "metadata": {},
   "outputs": [
    {
     "name": "stdout",
     "output_type": "stream",
     "text": [
      "\n",
      "\n",
      "\u001b[1m> Entering new SQLDatabaseChain chain...\u001b[0m\n",
      "SELECT s.standard, COUNT(DISTINCT s.student_id) AS num_failed_students FROM students s\n",
      "JOIN marks m ON s.student_id = m.student_id WHERE s.standard IN ('7th')\n",
      "AND m.grade = 'F' GROUP BY s.standard; \n",
      "SQLQuery:\u001b[32;1m\u001b[1;3mSELECT s.standard, COUNT(DISTINCT s.student_id) AS num_failed_students FROM students s\n",
      "JOIN marks m ON s.student_id = m.student_id WHERE s.standard IN ('7th')\n",
      "AND m.grade = 'F' GROUP BY s.standard;\u001b[0m\n",
      "SQLResult: \u001b[33;1m\u001b[1;3m[('7th', 13)]\u001b[0m\n",
      "Answer:\u001b[32;1m\u001b[1;3m13\u001b[0m\n",
      "\u001b[1m> Finished chain.\u001b[0m\n"
     ]
    }
   ],
   "source": [
    "# \"Find out how many students failed in class 7th\"\n",
    "\n",
    "qu9 = db_chain.run(\"\"\"SELECT s.standard, COUNT(DISTINCT s.student_id) AS num_failed_students FROM students s\n",
    "    JOIN marks m ON s.student_id = m.student_id WHERE s.standard IN ('7th')\n",
    "    AND m.grade = 'F' GROUP BY s.standard; \"\"\")"
   ]
  },
  {
   "cell_type": "code",
   "execution_count": 94,
   "id": "c77c7811",
   "metadata": {},
   "outputs": [
    {
     "name": "stdout",
     "output_type": "stream",
     "text": [
      "\n",
      "\n",
      "\u001b[1m> Entering new SQLDatabaseChain chain...\u001b[0m\n",
      "SELECT m.subject_name, COUNT(*) AS num_failed_students FROM marks m\n",
      "JOIN students s ON s.student_id = m.student_id WHERE s.standard = '8th' AND m.grade = 'F'\n",
      "GROUP BY m.subject_name ORDER BY num_failed_students DESC LIMIT 1;\n",
      "SQLQuery:\u001b[32;1m\u001b[1;3mSELECT m.subject_name, COUNT(*) AS num_failed_students FROM marks m\n",
      "JOIN students s ON s.student_id = m.student_id WHERE s.standard = '8th' AND m.grade = 'F'\n",
      "GROUP BY m.subject_name ORDER BY num_failed_students DESC LIMIT 1;\u001b[0m\n",
      "SQLResult: \u001b[33;1m\u001b[1;3m[('History', 4)]\u001b[0m\n",
      "Answer:\u001b[32;1m\u001b[1;3mHistory\u001b[0m\n",
      "\u001b[1m> Finished chain.\u001b[0m\n"
     ]
    }
   ],
   "source": [
    "# \"Find the subject in which the most students failed and their count for class 6th\"\n",
    "\n",
    "qu10 = db_chain.run(\"\"\"SELECT m.subject_name, COUNT(*) AS num_failed_students FROM marks m\n",
    "    JOIN students s ON s.student_id = m.student_id WHERE s.standard = '8th' AND m.grade = 'F'\n",
    "    GROUP BY m.subject_name ORDER BY num_failed_students DESC LIMIT 1;\"\"\")"
   ]
  },
  {
   "cell_type": "code",
   "execution_count": 97,
   "id": "70f893a0",
   "metadata": {},
   "outputs": [
    {
     "name": "stdout",
     "output_type": "stream",
     "text": [
      "\n",
      "\n",
      "\u001b[1m> Entering new SQLDatabaseChain chain...\u001b[0m\n",
      "find out the number of male and female students in each class\n",
      "SQLQuery:\u001b[32;1m\u001b[1;3mSELECT standard, gender, COUNT(*) AS count FROM students GROUP BY standard, gender\u001b[0m\n",
      "SQLResult: \u001b[33;1m\u001b[1;3m[('8th', 'Female', 13), ('8th', 'Male', 12), ('7th', 'Female', 12), ('7th', 'Male', 13), ('6th', 'Female', 15), ('6th', 'Male', 10)]\u001b[0m\n",
      "Answer:\u001b[32;1m\u001b[1;3m8th: Female 13, Male 12; 7th: Female 12, Male 13; 6th: Female 15, Male 10\u001b[0m\n",
      "\u001b[1m> Finished chain.\u001b[0m\n"
     ]
    }
   ],
   "source": [
    "# \"Find out the number of male and female students in each class\"\n",
    "\n",
    "qu11 = db_chain.run(\"Find out the number of male and female students in each class\")"
   ]
  },
  {
   "cell_type": "code",
   "execution_count": 99,
   "id": "d7e83f4e",
   "metadata": {},
   "outputs": [
    {
     "name": "stdout",
     "output_type": "stream",
     "text": [
      "\n",
      "\n",
      "\u001b[1m> Entering new SQLDatabaseChain chain...\u001b[0m\n",
      "determine the subjects taught by each teacher name\n",
      "SQLQuery:\u001b[32;1m\u001b[1;3mSELECT teacher_name, subject_taught FROM teachers\u001b[0m\n",
      "SQLResult: \u001b[33;1m\u001b[1;3m[('Maria DeSouza', 'Computer'), ('Rajat Verma', 'English'), ('Sohel Khan', 'History'), ('Ankita Mundada', 'Maths'), ('Sonal Sardesai', 'Science')]\u001b[0m\n",
      "Answer:\u001b[32;1m\u001b[1;3mMaria DeSouza -> Computer, Rajat Verma -> English, Sohel Khan -> History, Ankita Mundada -> Maths, Sonal Sardesai -> Science\u001b[0m\n",
      "\u001b[1m> Finished chain.\u001b[0m\n"
     ]
    }
   ],
   "source": [
    "#  \"Determine the subjects taught by each teacher\"\n",
    "\n",
    "qu12 = db_chain.run(\"determine the subjects taught by each teacher name\")"
   ]
  },
  {
   "cell_type": "code",
   "execution_count": 101,
   "id": "6a5f2e8b",
   "metadata": {},
   "outputs": [
    {
     "name": "stdout",
     "output_type": "stream",
     "text": [
      "\n",
      "\n",
      "\u001b[1m> Entering new SQLDatabaseChain chain...\u001b[0m\n",
      "SELECT subject_name, ROUND(AVG(marks_obtained), 2) AS average_marks FROM marks\n",
      "    JOIN students ON marks.student_id = students.student_id\n",
      "    WHERE students.standard = '7th' GROUP BY subject_name;\n",
      "SQLQuery:\u001b[32;1m\u001b[1;3mSELECT subject_name, ROUND(AVG(marks_obtained), 2) AS average_marks FROM marks\n",
      "   JOIN students ON marks.student_id = students.student_id\n",
      "   WHERE students.standard = '7th' GROUP BY subject_name;\u001b[0m\n",
      "SQLResult: \u001b[33;1m\u001b[1;3m[('English', Decimal('69.32')), ('Computer', Decimal('64.60')), ('History', Decimal('58.28')), ('Maths', Decimal('63.84')), ('Science', Decimal('68.80'))]\u001b[0m\n",
      "Answer:\u001b[32;1m\u001b[1;3mEnglish, 69.32\u001b[0m\n",
      "\u001b[1m> Finished chain.\u001b[0m\n"
     ]
    }
   ],
   "source": [
    "# calculate the average marks obtained by students in each subject for class 7th\n",
    "\n",
    "qu13 = db_chain.run(\"\"\"SELECT subject_name, ROUND(AVG(marks_obtained), 2) AS average_marks FROM marks\n",
    "    JOIN students ON marks.student_id = students.student_id\n",
    "    WHERE students.standard = '7th' GROUP BY subject_name;\"\"\")"
   ]
  },
  {
   "cell_type": "code",
   "execution_count": 163,
   "id": "26ecccd3",
   "metadata": {},
   "outputs": [
    {
     "name": "stdout",
     "output_type": "stream",
     "text": [
      "\n",
      "\n",
      "\u001b[1m> Entering new SQLDatabaseChain chain...\u001b[0m\n",
      " SELECT standard, COUNT(*) AS total_students,\n",
      "SUM(CASE WHEN coaching_class = 'Yes' THEN 1 ELSE 0 END) AS num_students_attending_coaching FROM students GROUP BY standard;\n",
      "SQLQuery:\u001b[32;1m\u001b[1;3mSELECT standard, COUNT(*) AS total_students,\n",
      "SUM(CASE WHEN coaching_class = 'Yes' THEN 1 ELSE 0 END) AS num_students_attending_coaching FROM students GROUP BY standard;\u001b[0m\n",
      "SQLResult: \u001b[33;1m\u001b[1;3m[('8th', 25, Decimal('13')), ('7th', 25, Decimal('11')), ('6th', 25, Decimal('14'))]\u001b[0m\n",
      "Answer:\u001b[32;1m\u001b[1;3m8th, 25, 13\u001b[0m\n",
      "\u001b[1m> Finished chain.\u001b[0m\n"
     ]
    }
   ],
   "source": [
    "# Find out the total number of students standardwise who attend coaching classes\n",
    "\n",
    "qu14 = db_chain.run(\"\"\" SELECT standard, COUNT(*) AS total_students,\n",
    "SUM(CASE WHEN coaching_class = 'Yes' THEN 1 ELSE 0 END) AS num_students_attending_coaching FROM students GROUP BY standard;\"\"\")"
   ]
  },
  {
   "cell_type": "code",
   "execution_count": 115,
   "id": "8d788dfe",
   "metadata": {},
   "outputs": [
    {
     "name": "stdout",
     "output_type": "stream",
     "text": [
      "\n",
      "\n",
      "\u001b[1m> Entering new SQLDatabaseChain chain...\u001b[0m\n",
      "WITH SubjectTopper AS ( SELECT m.subject_name, s.student_id, s.student_name, m.marks_obtained AS highest_marks,\n",
      "\tROW_NUMBER() OVER (PARTITION BY m.subject_name ORDER BY m.marks_obtained DESC) AS rr\n",
      "    FROM marks m JOIN students s ON m.student_id = s.student_id WHERE s.standard = '8th')\n",
      "\tSELECT subject_name, student_id, student_name, highest_marks FROM SubjectTopper WHERE rr = 1;\n",
      "SQLQuery:\u001b[32;1m\u001b[1;3mWITH SubjectTopper AS ( SELECT m.subject_name, s.student_id, s.student_name, m.marks_obtained AS highest_marks,\n",
      "\tROW_NUMBER() OVER (PARTITION BY m.subject_name ORDER BY m.marks_obtained DESC) AS rr\n",
      "    FROM marks m JOIN students s ON m.student_id = s.student_id WHERE s.standard = '8th')\n",
      "\tSELECT subject_name, student_id, student_name, highest_marks FROM SubjectTopper WHERE rr = 1;\u001b[0m\n",
      "SQLResult: \u001b[33;1m\u001b[1;3m[('Computer', 'EI11', 'Omkar Khair', 97), ('English', 'EI11', 'Omkar Khair', 93), ('History', 'EI17', 'Ranjan Kumar', 96), ('Maths', 'EI10', 'Nikhil Pandit', 100), ('Science', 'EI20', 'Abhi Karve', 94)]\u001b[0m\n",
      "Answer:\u001b[32;1m\u001b[1;3mComputer: Omkar Khair, 97; English: Omkar Khair, 93; History: Ranjan Kumar, 96; Maths: Nikhil Pandit, 100; Science: Abhi Karve, 94\u001b[0m\n",
      "\u001b[1m> Finished chain.\u001b[0m\n"
     ]
    }
   ],
   "source": [
    "# List the names of students who scored the highest marks in each subject of 8th std\n",
    "\n",
    "qu15 = db_chain.run(\"\"\"WITH SubjectTopper AS ( SELECT m.subject_name, s.student_id, s.student_name, m.marks_obtained AS highest_marks,\n",
    "\tROW_NUMBER() OVER (PARTITION BY m.subject_name ORDER BY m.marks_obtained DESC) AS rr\n",
    "    FROM marks m JOIN students s ON m.student_id = s.student_id WHERE s.standard = '8th')\n",
    "\tSELECT subject_name, student_id, student_name, highest_marks FROM SubjectTopper WHERE rr = 1;\"\"\")"
   ]
  },
  {
   "cell_type": "code",
   "execution_count": 125,
   "id": "0e7bb170",
   "metadata": {},
   "outputs": [
    {
     "name": "stdout",
     "output_type": "stream",
     "text": [
      "\n",
      "\n",
      "\u001b[1m> Entering new SQLDatabaseChain chain...\u001b[0m\n",
      "SELECT COUNT(*) AS num_students_failed_in_more_than_two_subjects\n",
      "FROM ( SELECT m.student_id FROM marks m JOIN students s ON m.student_id = s.student_id\n",
      "WHERE s.standard = '7th' AND m.grade = 'F' GROUP BY m.student_id\n",
      "HAVING COUNT(*) > 1) AS failed_student\n",
      "SQLQuery:\u001b[32;1m\u001b[1;3mSELECT COUNT(*) AS num_students_failed_in_more_than_two_subjects\n",
      "FROM ( SELECT m.student_id FROM marks m JOIN students s ON m.student_id = s.student_id\n",
      "WHERE s.standard = '7th' AND m.grade = 'F' GROUP BY m.student_id\n",
      "HAVING COUNT(*) > 1) AS failed_student\u001b[0m\n",
      "SQLResult: \u001b[33;1m\u001b[1;3m[(4,)]\u001b[0m\n",
      "Answer:\u001b[32;1m\u001b[1;3m4\u001b[0m\n",
      "\u001b[1m> Finished chain.\u001b[0m\n"
     ]
    }
   ],
   "source": [
    "# Determine the number of students who failed in more than one subjects of class 7th.\n",
    "\n",
    "qu16 = db_chain.run(\"\"\"SELECT COUNT(*) AS num_students_failed_in_more_than_two_subjects\n",
    "    FROM ( SELECT m.student_id FROM marks m JOIN students s ON m.student_id = s.student_id\n",
    "    WHERE s.standard = '7th' AND m.grade = 'F' GROUP BY m.student_id\n",
    "    HAVING COUNT(*) > 1) AS failed_student\"\"\")"
   ]
  },
  {
   "cell_type": "code",
   "execution_count": 130,
   "id": "445892af",
   "metadata": {},
   "outputs": [
    {
     "name": "stdout",
     "output_type": "stream",
     "text": [
      "\n",
      "\n",
      "\u001b[1m> Entering new SQLDatabaseChain chain...\u001b[0m\n",
      "SELECT standard, ROUND((COUNT(CASE WHEN grade != 'F' THEN 1 END) / COUNT(*) * 100), 2) AS pass_percentage\n",
      "    FROM students JOIN marks ON students.student_id = marks.student_id GROUP BY standard ORDER BY standard;\n",
      "SQLQuery:\u001b[32;1m\u001b[1;3mSELECT standard, ROUND((COUNT(CASE WHEN grade != 'F' THEN 1 END) / COUNT(*) * 100), 2) AS pass_percentage\n",
      "   FROM students JOIN marks ON students.student_id = marks.student_id GROUP BY standard ORDER BY standard;\u001b[0m\n",
      "SQLResult: \u001b[33;1m\u001b[1;3m[('6th', Decimal('91.20')), ('7th', Decimal('85.60')), ('8th', Decimal('88.00'))]\u001b[0m\n",
      "Answer:\u001b[32;1m\u001b[1;3m6th, 7th, 8th\u001b[0m\n",
      "\u001b[1m> Finished chain.\u001b[0m\n"
     ]
    }
   ],
   "source": [
    "# Calculate the overall pass percentage of students in each class\n",
    "\n",
    "qu17 = db_chain.run(\"\"\"SELECT standard, ROUND((COUNT(CASE WHEN grade != 'F' THEN 1 END) / COUNT(*) * 100), 2) AS pass_percentage\n",
    "    FROM students JOIN marks ON students.student_id = marks.student_id GROUP BY standard ORDER BY standard;\"\"\")"
   ]
  },
  {
   "cell_type": "code",
   "execution_count": 134,
   "id": "da3d1309",
   "metadata": {},
   "outputs": [
    {
     "name": "stdout",
     "output_type": "stream",
     "text": [
      "\n",
      "\n",
      "\u001b[1m> Entering new SQLDatabaseChain chain...\u001b[0m\n",
      "retrieve the name of the student who got an 'A' grade in computer for class 6th\n",
      "SQLQuery:\u001b[32;1m\u001b[1;3mSELECT student_name FROM students JOIN marks ON students.student_id = marks.student_id JOIN teachers ON marks.subject_code = teachers.teacher_id WHERE marks.subject_name = 'Computer' AND marks.grade = 'A' AND students.standard = '6th'\u001b[0m\n",
      "SQLResult: \u001b[33;1m\u001b[1;3m[('Jyoti Sharma',), ('Neeraj Rajput',), ('Saurav Minati',), ('Kiran Kirtan',), ('Sarika Devi',), ('Seema Kadam',), ('Avanish Kadam',)]\u001b[0m\n",
      "Answer:\u001b[32;1m\u001b[1;3mJyoti Sharma\u001b[0m\n",
      "\u001b[1m> Finished chain.\u001b[0m\n"
     ]
    }
   ],
   "source": [
    "# Retrieve the name of the student who got an 'A' grade in computer for class 6th\n",
    "\n",
    "qu18 = db_chain.run(\"\"\"retrieve the name of the student who got an 'A' grade in computer for class 6th\"\"\")"
   ]
  },
  {
   "cell_type": "code",
   "execution_count": 143,
   "id": "c6e6f1e0",
   "metadata": {},
   "outputs": [
    {
     "name": "stdout",
     "output_type": "stream",
     "text": [
      "\n",
      "\n",
      "\u001b[1m> Entering new SQLDatabaseChain chain...\u001b[0m\n",
      " SELECT subject_name,\n",
      "    MAX(CASE WHEN student_id = 'SI01' THEN marks_obtained END) AS SI01_marks,\n",
      "    MAX(CASE WHEN student_id = 'SI07' THEN marks_obtained END) AS SI07_marks,\n",
      "    MAX(CASE WHEN student_id = 'SI01' THEN grade END) AS SI01_grade,\n",
      "    MAX(CASE WHEN student_id = 'SI07' THEN grade END) AS SI07_grade\n",
      "    FROM marks WHERE student_id IN ('SI01', 'SI07') GROUP BY subject_name;\n",
      "SQLQuery:\u001b[32;1m\u001b[1;3mSELECT subject_name,\n",
      "   MAX(CASE WHEN student_id = 'SI01' THEN marks_obtained END) AS SI01_marks,\n",
      "   MAX(CASE WHEN student_id = 'SI07' THEN marks_obtained END) AS SI07_marks,\n",
      "   MAX(CASE WHEN student_id = 'SI01' THEN grade END) AS SI01_grade,\n",
      "   MAX(CASE WHEN student_id = 'SI07' THEN grade END) AS SI07_grade\n",
      "   FROM marks WHERE student_id IN ('SI01', 'SI07') GROUP BY subject_name;\u001b[0m\n",
      "SQLResult: \u001b[33;1m\u001b[1;3m[('English', 82, 30, 'A', 'F'), ('Computer', 58, 59, 'D', 'D'), ('History', 49, 56, 'E', 'D'), ('Maths', 35, 48, 'F', 'E'), ('Science', 72, 53, 'B', 'D')]\u001b[0m\n",
      "Answer:\u001b[32;1m\u001b[1;3mEnglish, 82, 30, A, F\u001b[0m\n",
      "\u001b[1m> Finished chain.\u001b[0m\n"
     ]
    }
   ],
   "source": [
    "# qu19 display the results of students SI01 and SI07 in a comparative form\n",
    "\n",
    "qu19 = db_chain.run(\"\"\" SELECT subject_name,\n",
    "    MAX(CASE WHEN student_id = 'SI01' THEN marks_obtained END) AS SI01_marks,\n",
    "    MAX(CASE WHEN student_id = 'SI07' THEN marks_obtained END) AS SI07_marks,\n",
    "    MAX(CASE WHEN student_id = 'SI01' THEN grade END) AS SI01_grade,\n",
    "    MAX(CASE WHEN student_id = 'SI07' THEN grade END) AS SI07_grade\n",
    "    FROM marks WHERE student_id IN ('SI01', 'SI07') GROUP BY subject_name;\"\"\")"
   ]
  },
  {
   "cell_type": "code",
   "execution_count": 153,
   "id": "79598d18",
   "metadata": {},
   "outputs": [
    {
     "name": "stdout",
     "output_type": "stream",
     "text": [
      "\n",
      "\n",
      "\u001b[1m> Entering new SQLDatabaseChain chain...\u001b[0m\n",
      " SELECT m.student_id, s.student_name,'7th' AS class, SUM(m.marks_obtained) AS total_marks FROM marks m\n",
      "JOIN students s ON m.student_id = s.student_id WHERE s.standard = '7th'\n",
      "GROUP BY m.student_id, s.student_name ORDER BY total_marks DESC LIMIT 3;\n",
      "SQLQuery:\u001b[32;1m\u001b[1;3mSELECT m.student_id, s.student_name,'7th' AS class, SUM(m.marks_obtained) AS total_marks FROM marks m\n",
      "JOIN students s ON m.student_id = s.student_id WHERE s.standard = '7th'\n",
      "GROUP BY m.student_id, s.student_name ORDER BY total_marks DESC LIMIT 3;\u001b[0m\n",
      "SQLResult: \u001b[33;1m\u001b[1;3m[('SE06', 'Arjun Kadam', '7th', Decimal('384')), ('SE11', 'Rajan Ray', '7th', Decimal('377')), ('SE07', 'Kritika Trivedi', '7th', Decimal('375'))]\u001b[0m\n",
      "Answer:\u001b[32;1m\u001b[1;3mArjun Kadam, Rajan Ray, Kritika Trivedi\u001b[0m\n",
      "\u001b[1m> Finished chain.\u001b[0m\n"
     ]
    }
   ],
   "source": [
    "# find out first, second and third ranker of class 8th\n",
    "\n",
    "qu20 = db_chain.run(\"\"\" SELECT m.student_id, s.student_name,'7th' AS class, SUM(m.marks_obtained) AS total_marks FROM marks m\n",
    "JOIN students s ON m.student_id = s.student_id WHERE s.standard = '7th'\n",
    "GROUP BY m.student_id, s.student_name ORDER BY total_marks DESC LIMIT 3;\"\"\")"
   ]
  },
  {
   "cell_type": "code",
   "execution_count": null,
   "id": "535b8f0a",
   "metadata": {},
   "outputs": [],
   "source": []
  },
  {
   "cell_type": "markdown",
   "id": "57960e2c",
   "metadata": {},
   "source": [
    "#### Few Shot Learning"
   ]
  },
  {
   "cell_type": "markdown",
   "id": "eaad9969",
   "metadata": {},
   "source": [
    "We will use few shot learning to fix issues we have seen so far\n"
   ]
  },
  {
   "cell_type": "code",
   "execution_count": 164,
   "id": "1dd6984d",
   "metadata": {},
   "outputs": [],
   "source": [
    "few_shots = [\n",
    "    {'Question': \"Find out which subject Ankita Mundada teaches\",\n",
    "     'SQLQuery': \"SELECT subject_taught FROM teachers WHERE teacher_name = 'Ankita Mundada'\",\n",
    "     'SQLResult': \"Result of the SQL query\",\n",
    "     'Answer': qu1},\n",
    "\n",
    "    {'Question': \"Percentage of student id SI07\",\n",
    "     'SQLQuery': \"SELECT s.student_id, s.student_name, ROUND((SUM(m.marks_obtained) / COUNT(m.mark_id)), 2) AS percentage FROM students s JOIN marks m USING(student_id) WHERE s.student_id = 'SI07'\",\n",
    "     'SQLResult': \"Result of the SQL query\",\n",
    "     'Answer': qu2},\n",
    "\n",
    "    {'Question': \"Find out who got the highest marks in Maths among 8th standard students and how many marks they scored.\",\n",
    "     'SQLQuery': \"SELECT s.student_name, m.marks_obtained AS highest_marks FROM students s JOIN marks m ON s.student_id = m.student_id WHERE s.standard = '8th' AND m.subject_name = 'Maths' ORDER BY m.marks_obtained DESC LIMIT 1\",\n",
    "     'SQLResult': \"Result of the SQL query\",\n",
    "     'Answer': qu3},\n",
    "\n",
    "    {'Question': \"Find the average marks in English of 7th standard students?\",\n",
    "     'SQLQuery': \"SELECT ROUND(AVG(marks_obtained), 2) AS average_marks FROM marks m JOIN students s ON m.student_id = s.student_id WHERE s.standard = '7th' AND m.subject_name = 'English'\",\n",
    "     'SQLResult': \"Result of the SQL query\",\n",
    "     'Answer': qu4},\n",
    "     \n",
    "    {'Question': \"Find the average marks per standard for the subject taught by Sohel Khan\",\n",
    "     'SQLQuery': \"SELECT s.standard, ROUND(AVG(m.marks_obtained), 2) AS average_marks FROM marks m JOIN teachers t ON m.subject_code = t.teacher_id JOIN students s ON m.student_id = s.student_id WHERE t.teacher_name = 'Sohel Khan' GROUP BY s.standard\",\n",
    "     'SQLResult': \"Result of the SQL query\",\n",
    "     'Answer': qu5},\n",
    "\n",
    "    {'Question': \"Find out how many students got more than 70% in class 7th\",\n",
    "     'SQLQuery': \"SELECT COUNT(*) AS num_students_above_70_percent FROM ( SELECT s.student_id FROM students s JOIN marks m ON s.student_id = m.student_id WHERE s.standard = '7th' GROUP BY s.student_id HAVING ROUND((SUM(m.marks_obtained) / (COUNT(m.mark_id) * 100)) * 100, 2) > 70 ) AS students_above_70_percent\",\n",
    "     'SQLResult': \"Result of the SQL query\",\n",
    "     'Answer': qu6},\n",
    "\n",
    "    {'Question': \"Find out the information of student id SI02\",\n",
    "     'SQLQuery': \"SELECT student_name, standard, gender, coaching_class FROM students WHERE student_id = 'SI02'\",\n",
    "     'SQLResult': \"Result of the SQL query\",\n",
    "     'Answer': qu7},\n",
    "\n",
    "    {'Question': \"Find out how many students get an A grade in class 6th\",\n",
    "     'SQLQuery': \"SELECT COUNT(*) FROM marks m JOIN students s ON m.student_id = s.student_id WHERE s.standard = '6th' AND m.grade = 'A'\",\n",
    "     'SQLResult': \"Result of the SQL query\",\n",
    "     'Answer': qu8},\n",
    "\n",
    "    {'Question': \"Find out how many students failed in class 7th\",\n",
    "     'SQLQuery': \"SELECT s.standard, COUNT(DISTINCT s.student_id) AS num_failed_students FROM students s JOIN marks m ON s.student_id = m.student_id WHERE s.standard IN ('7th') AND m.grade = 'F' GROUP BY s.standard\",\n",
    "     'SQLResult': \"Result of the SQL query\",\n",
    "     'Answer': qu9},\n",
    "\n",
    "    {'Question': \"Find the subject in which the most students failed and their count for class 6th\",\n",
    "     'SQLQuery': \"SELECT m.subject_name, COUNT(*) AS num_failed_students FROM marks m JOIN students s ON s.student_id = m.student_id WHERE s.standard = '8th' AND m.grade = 'F' GROUP BY m.subject_name ORDER BY num_failed_students DESC LIMIT 1\",\n",
    "     'SQLResult': \"Result of the SQL query\",\n",
    "     'Answer': qu10},\n",
    "\n",
    "    {'Question': \"Find out the number of male and female students in each class\",\n",
    "     'SQLQuery': \"SELECT standard, gender, COUNT(*) AS count FROM students GROUP BY standard, gender\",\n",
    "     'SQLResult': \"Result of the SQL query\",\n",
    "     'Answer': qu11},\n",
    "\n",
    "    {'Question': \"Determine the subjects taught by each teacher\",\n",
    "     'SQLQuery': \"SELECT teacher_name, subject_taught FROM teachers\",\n",
    "     'SQLResult': \"Result of the SQL query\",\n",
    "     'Answer': qu12},\n",
    "\n",
    "    {'Question': \"Calculate the average marks obtained by students in each subject for class 7th\",\n",
    "     'SQLQuery': \"SELECT subject_name, ROUND(AVG(marks_obtained), 2) AS average_marks FROM marks JOIN students ON marks.student_id = students.student_id WHERE students.standard = '7th' GROUP BY subject_name\",\n",
    "     'SQLResult': \"Result of the SQL query\",\n",
    "    'Answer': qu13},\n",
    "\n",
    "    {'Question': \"Find out the total number of students standardwise who attend coaching classes\",\n",
    "     'SQLQuery': \"SELECT standard, COUNT(*) AS total_students, SUM(CASE WHEN coaching_class = 'Yes' THEN 1 ELSE 0 END) AS num_students_attending_coaching FROM students GROUP BY standard\",\n",
    "     'SQLResult': \"Result of the SQL query\",\n",
    "     'Answer': qu14},\n",
    "\n",
    "    {'Question': \"List the names of students who scored the highest marks in each subject of 8th std\",\n",
    "     'SQLQuery': \"WITH SubjectTopper AS ( SELECT m.subject_name, s.student_id, s.student_name, m.marks_obtained AS highest_marks, ROW_NUMBER() OVER (PARTITION BY m.subject_name ORDER BY m.marks_obtained DESC) AS rr FROM marks m JOIN students s ON m.student_id = s.student_id WHERE s.standard = '8th') SELECT subject_name, student_id, student_name, highest_marks FROM SubjectTopper WHERE rr = 1;\",\n",
    "     'SQLResult': \"Result of the SQL query\",\n",
    "     'Answer': qu15},\n",
    "\n",
    "    {'Question': \"Determine the number of students who failed in more than one subjects.\",\n",
    "     'SQLQuery': \"SELECT COUNT(*) AS num_students_failed_in_more_than_two_subjects FROM ( SELECT m.student_id FROM marks m JOIN students s ON m.student_id = s.student_id WHERE s.standard = '6th' AND m.grade = 'F' GROUP BY m.student_id HAVING COUNT(*) > 1) AS failed_students\",\n",
    "     'SQLResult': \"Result of the SQL query\",\n",
    "     'Answer': qu16},\n",
    "\n",
    "    {'Question': \"Calculate the overall pass percentage of students in each class\",\n",
    "     'SQLQuery': \"SELECT standard, ROUND((COUNT(CASE WHEN grade != 'F' THEN 1 END) / COUNT(*) * 100), 2) AS pass_percentage FROM students JOIN marks ON students.student_id = marks.student_id GROUP BY standard ORDER BY standard\",\n",
    "     'SQLResult': \"Result of the SQL query\",\n",
    "     'Answer': qu17},\n",
    "\n",
    "    {'Question': \"Retrieve the name of the student who got an 'A' grade in computer for class 6th\",\n",
    "     'SQLQuery': \"SELECT student_name FROM students JOIN marks USING (student_id) WHERE grade = 'A' AND subject_name = 'Computer' AND standard = '6th'\",\n",
    "     'SQLResult': \"Result of the SQL query\",\n",
    "     'Answer': qu18},\n",
    "\n",
    "    {'Question': \"Display the results of students SI01 and SI07 in a comparative form\",\n",
    "     'SQLQuery': \"SELECT subject_name, MAX(CASE WHEN student_id = 'SI01' THEN marks_obtained END) AS SI01_marks, MAX(CASE WHEN student_id = 'SI07' THEN marks_obtained END) AS SI07_marks, MAX(CASE WHEN student_id = 'SI01' THEN grade END) AS SI01_grade, MAX(CASE WHEN student_id = 'SI07' THEN grade END) AS SI07_grade FROM marks WHERE student_id IN ('SI01', 'SI07') GROUP BY subject_name\",\n",
    "     'SQLResult': \"Result of the SQL query\",\n",
    "     'Answer': qu19},\n",
    "\n",
    "    {'Question': \"Find the first three ranker of class 7th\",\n",
    "     'SQLQuery': \"SELECT m.student_id, s.student_name, '7th' AS class, SUM(m.marks_obtained) AS total_marks FROM marks m JOIN students s ON m.student_id = s.student_id WHERE s.standard = '7th' GROUP BY m.student_id, s.student_name ORDER BY total_marks DESC LIMIT 3\",\n",
    "     'SQLResult': \"Result of the SQL query\",\n",
    "     'Answer': qu20},\n",
    "]"
   ]
  },
  {
   "cell_type": "markdown",
   "id": "1e36aec2",
   "metadata": {},
   "source": [
    "#### Creating Semantic Similarity Based example selector\n"
   ]
  },
  {
   "cell_type": "markdown",
   "id": "a0e3a195",
   "metadata": {},
   "source": [
    "1) create embedding on the few_shots\n",
    "2) Store the embeddings in Chroma DB\n",
    "3) Retrieve the the top most Semantically close example from the vector store"
   ]
  },
  {
   "cell_type": "code",
   "execution_count": 168,
   "id": "b6fffc70",
   "metadata": {},
   "outputs": [],
   "source": [
    "from langchain.embeddings import HuggingFaceEmbeddings\n",
    "\n",
    "embeddings = HuggingFaceEmbeddings(model_name='sentence-transformers/all-MiniLM-L6-v2')\n",
    "\n",
    "e = embeddings.embed_query(\"Find out which subject Sohel teaches\")"
   ]
  },
  {
   "cell_type": "code",
   "execution_count": 169,
   "id": "3c242a8f",
   "metadata": {},
   "outputs": [
    {
     "data": {
      "text/plain": [
       "[0.09965822845697403,\n",
       " 0.014540574513375759,\n",
       " -0.08289855718612671,\n",
       " -0.006000849884003401,\n",
       " 0.11131759732961655]"
      ]
     },
     "execution_count": 169,
     "metadata": {},
     "output_type": "execute_result"
    }
   ],
   "source": [
    "e[:5]"
   ]
  },
  {
   "cell_type": "code",
   "execution_count": 174,
   "id": "a18ad2f2",
   "metadata": {},
   "outputs": [
    {
     "data": {
      "text/plain": [
       "[\"Find out which subject Ankita Mundada teaches SELECT subject_taught FROM teachers WHERE teacher_name = 'Ankita Mundada' Result of the SQL query Maths\",\n",
       " \"Percentage of student id SI07 SELECT s.student_id, s.student_name, ROUND((SUM(m.marks_obtained) / COUNT(m.mark_id)), 2) AS percentage FROM students s JOIN marks m USING(student_id) WHERE s.student_id = 'SI07' Result of the SQL query Kabir Thapar, 49.20\",\n",
       " \"Find out who got the highest marks in Maths among 8th standard students and how many marks they scored. SELECT s.student_name, m.marks_obtained AS highest_marks FROM students s JOIN marks m ON s.student_id = m.student_id WHERE s.standard = '8th' AND m.subject_name = 'Maths' ORDER BY m.marks_obtained DESC LIMIT 1 Result of the SQL query Nikhil Pandit scored 100 marks in Maths\",\n",
       " \"Find the average marks in English of 7th standard students? SELECT ROUND(AVG(marks_obtained), 2) AS average_marks FROM marks m JOIN students s ON m.student_id = s.student_id WHERE s.standard = '7th' AND m.subject_name = 'English' Result of the SQL query 69.32\",\n",
       " \"Find the average marks per standard for the subject taught by Sohel Khan SELECT s.standard, ROUND(AVG(m.marks_obtained), 2) AS average_marks FROM marks m JOIN teachers t ON m.subject_code = t.teacher_id JOIN students s ON m.student_id = s.student_id WHERE t.teacher_name = 'Sohel Khan' GROUP BY s.standard Result of the SQL query (71.2800, 6th), (58.2800, 7th), (64.7200, 8th)\",\n",
       " \"Find out how many students got more than 70% in class 7th SELECT COUNT(*) AS num_students_above_70_percent FROM ( SELECT s.student_id FROM students s JOIN marks m ON s.student_id = m.student_id WHERE s.standard = '7th' GROUP BY s.student_id HAVING ROUND((SUM(m.marks_obtained) / (COUNT(m.mark_id) * 100)) * 100, 2) > 70 ) AS students_above_70_percent Result of the SQL query 7\",\n",
       " \"Find out the information of student id SI02 SELECT student_name, standard, gender, coaching_class FROM students WHERE student_id = 'SI02' Result of the SQL query Ganesh Malhotra, 6th, Male, Yes\",\n",
       " \"Find out how many students get an A grade in class 6th SELECT COUNT(*) FROM marks m JOIN students s ON m.student_id = s.student_id WHERE s.standard = '6th' AND m.grade = 'A' Result of the SQL query 35\",\n",
       " \"Find out how many students failed in class 7th SELECT s.standard, COUNT(DISTINCT s.student_id) AS num_failed_students FROM students s JOIN marks m ON s.student_id = m.student_id WHERE s.standard IN ('7th') AND m.grade = 'F' GROUP BY s.standard Result of the SQL query 13\",\n",
       " \"Find the subject in which the most students failed and their count for class 6th SELECT m.subject_name, COUNT(*) AS num_failed_students FROM marks m JOIN students s ON s.student_id = m.student_id WHERE s.standard = '8th' AND m.grade = 'F' GROUP BY m.subject_name ORDER BY num_failed_students DESC LIMIT 1 Result of the SQL query History\",\n",
       " 'Find out the number of male and female students in each class SELECT standard, gender, COUNT(*) AS count FROM students GROUP BY standard, gender Result of the SQL query 8th: Female 13, Male 12; 7th: Female 12, Male 13; 6th: Female 15, Male 10',\n",
       " 'Determine the subjects taught by each teacher SELECT teacher_name, subject_taught FROM teachers Result of the SQL query Maria DeSouza, Computer',\n",
       " \"Calculate the average marks obtained by students in each subject for class 7th SELECT subject_name, ROUND(AVG(marks_obtained), 2) AS average_marks FROM marks JOIN students ON marks.student_id = students.student_id WHERE students.standard = '7th' GROUP BY subject_name Result of the SQL query English, 69.32\",\n",
       " \"Find out the total number of students standardwise who attend coaching classes, and also give total strength of class SELECT standard, COUNT(*) AS total_students, SUM(CASE WHEN coaching_class = 'Yes' THEN 1 ELSE 0 END) AS num_students_attending_coaching FROM students GROUP BY standard Result of the SQL query 8th, 25, 13\",\n",
       " \"List the names of students who scored the highest marks in each subject of 8th std WITH SubjectTopper AS ( SELECT m.subject_name, s.student_id, s.student_name, m.marks_obtained AS highest_marks, ROW_NUMBER() OVER (PARTITION BY m.subject_name ORDER BY m.marks_obtained DESC) AS rr FROM marks m JOIN students s ON m.student_id = s.student_id WHERE s.standard = '8th') SELECT subject_name, student_id, student_name, highest_marks FROM SubjectTopper WHERE rr = 1; Result of the SQL query Computer: Omkar Khair, 97; English: Omkar Khair, 93; History: Ranjan Kumar, 96; Maths: Nikhil Pandit, 100; Science: Abhi Karve, 94\",\n",
       " \"Determine the number of students who failed in more than one subjects. SELECT COUNT(*) AS num_students_failed_in_more_than_two_subjects FROM ( SELECT m.student_id FROM marks m JOIN students s ON m.student_id = s.student_id WHERE s.standard = '6th' AND m.grade = 'F' GROUP BY m.student_id HAVING COUNT(*) > 1) AS failed_students Result of the SQL query 4\",\n",
       " \"Calculate the overall pass percentage of students in each class SELECT standard, ROUND((COUNT(CASE WHEN grade != 'F' THEN 1 END) / COUNT(*) * 100), 2) AS pass_percentage FROM students JOIN marks ON students.student_id = marks.student_id GROUP BY standard ORDER BY standard Result of the SQL query 6th, 7th, 8th\",\n",
       " \"Retrieve the name of the student who got an 'A' grade in computer for class 6th SELECT student_name FROM students JOIN marks USING (student_id) WHERE grade = 'A' AND subject_name = 'Computer' AND standard = '6th' Result of the SQL query Jyoti Sharma\",\n",
       " \"Display the results of students SI01 and SI07 in a comparative form SELECT subject_name, MAX(CASE WHEN student_id = 'SI01' THEN marks_obtained END) AS SI01_marks, MAX(CASE WHEN student_id = 'SI07' THEN marks_obtained END) AS SI07_marks, MAX(CASE WHEN student_id = 'SI01' THEN grade END) AS SI01_grade, MAX(CASE WHEN student_id = 'SI07' THEN grade END) AS SI07_grade FROM marks WHERE student_id IN ('SI01', 'SI07') GROUP BY subject_name Result of the SQL query English, 82, 30, A, F\",\n",
       " \"Find the first three ranker of class 7th SELECT m.student_id, s.student_name, '7th' AS class, SUM(m.marks_obtained) AS total_marks FROM marks m JOIN students s ON m.student_id = s.student_id WHERE s.standard = '7th' GROUP BY m.student_id, s.student_name ORDER BY total_marks DESC LIMIT 3 Result of the SQL query Arjun Kadam, Rajan Ray, Kritika Trivedi\"]"
      ]
     },
     "execution_count": 174,
     "metadata": {},
     "output_type": "execute_result"
    }
   ],
   "source": [
    "to_vectorize = [\" \".join(example.values()) for example in few_shots]\n",
    "to_vectorize"
   ]
  },
  {
   "cell_type": "code",
   "execution_count": 175,
   "id": "ff4b5b8d",
   "metadata": {},
   "outputs": [
    {
     "data": {
      "text/plain": [
       "\"Find out which subject Ankita Mundada teaches SELECT subject_taught FROM teachers WHERE teacher_name = 'Ankita Mundada' Result of the SQL query Maths\""
      ]
     },
     "execution_count": 175,
     "metadata": {},
     "output_type": "execute_result"
    }
   ],
   "source": [
    "to_vectorize[0]"
   ]
  },
  {
   "cell_type": "code",
   "execution_count": null,
   "id": "39eb0378",
   "metadata": {},
   "outputs": [],
   "source": []
  },
  {
   "cell_type": "code",
   "execution_count": 176,
   "id": "9f929cac",
   "metadata": {},
   "outputs": [],
   "source": [
    "# create vector database\n",
    "from langchain.vectorstores import Chroma\n",
    "\n",
    "vectorstore = Chroma.from_texts(to_vectorize, embeddings, metadatas=few_shots)"
   ]
  },
  {
   "cell_type": "code",
   "execution_count": 178,
   "id": "ebc18922",
   "metadata": {},
   "outputs": [
    {
     "data": {
      "text/plain": [
       "[{'Answer': 'Computer: Omkar Khair, 97; English: Omkar Khair, 93; History: Ranjan Kumar, 96; Maths: Nikhil Pandit, 100; Science: Abhi Karve, 94',\n",
       "  'Question': 'List the names of students who scored the highest marks in each subject of 8th std',\n",
       "  'SQLQuery': \"WITH SubjectTopper AS ( SELECT m.subject_name, s.student_id, s.student_name, m.marks_obtained AS highest_marks, ROW_NUMBER() OVER (PARTITION BY m.subject_name ORDER BY m.marks_obtained DESC) AS rr FROM marks m JOIN students s ON m.student_id = s.student_id WHERE s.standard = '8th') SELECT subject_name, student_id, student_name, highest_marks FROM SubjectTopper WHERE rr = 1;\",\n",
       "  'SQLResult': 'Result of the SQL query'},\n",
       " {'Answer': 'Nikhil Pandit scored 100 marks in Maths',\n",
       "  'Question': 'Find out who got the highest marks in Maths among 8th standard students and how many marks they scored.',\n",
       "  'SQLQuery': \"SELECT s.student_name, m.marks_obtained AS highest_marks FROM students s JOIN marks m ON s.student_id = m.student_id WHERE s.standard = '8th' AND m.subject_name = 'Maths' ORDER BY m.marks_obtained DESC LIMIT 1\",\n",
       "  'SQLResult': 'Result of the SQL query'}]"
      ]
     },
     "execution_count": 178,
     "metadata": {},
     "output_type": "execute_result"
    }
   ],
   "source": [
    "# to show similar examples\n",
    "from langchain.prompts import SemanticSimilarityExampleSelector\n",
    "\n",
    "example_selector = SemanticSimilarityExampleSelector(\n",
    "    vectorstore=vectorstore,\n",
    "    k=2,\n",
    ")\n",
    "\n",
    "example_selector.select_examples({\"Question\": \"List the names of students who scored the highest marks in each subject of 8th std\"})"
   ]
  },
  {
   "cell_type": "code",
   "execution_count": null,
   "id": "5f847521",
   "metadata": {},
   "outputs": [],
   "source": []
  },
  {
   "cell_type": "code",
   "execution_count": 183,
   "id": "07ac7dae",
   "metadata": {},
   "outputs": [
    {
     "name": "stdout",
     "output_type": "stream",
     "text": [
      "You are a MySQL expert. Given an input question, first create a syntactically correct MySQL query to run, then look at the results of the query and return the answer to the input question.\n",
      "Unless the user specifies in the question a specific number of examples to obtain, query for at most {top_k} results using the LIMIT clause as per MySQL. You can order the results to return the most informative data in the database.\n",
      "Never query for all columns from a table. You must query only the columns that are needed to answer the question. Wrap each column name in backticks (`) to denote them as delimited identifiers.\n",
      "Pay attention to use only the column names you can see in the tables below. Be careful to not query for columns that do not exist. Also, pay attention to which column is in which table.\n",
      "Pay attention to use CURDATE() function to get the current date, if the question involves \"today\".\n",
      "\n",
      "Use the following format:\n",
      "\n",
      "Question: Question here\n",
      "SQLQuery: SQL Query to run\n",
      "SQLResult: Result of the SQLQuery\n",
      "Answer: Final answer here\n",
      "\n",
      "\n"
     ]
    }
   ],
   "source": [
    "from langchain.chains.sql_database.prompt import PROMPT_SUFFIX, _mysql_prompt\n",
    "\n",
    "print(_mysql_prompt)"
   ]
  },
  {
   "cell_type": "code",
   "execution_count": 181,
   "id": "a25691d0",
   "metadata": {},
   "outputs": [
    {
     "name": "stdout",
     "output_type": "stream",
     "text": [
      "Only use the following tables:\n",
      "{table_info}\n",
      "\n",
      "Question: {input}\n"
     ]
    }
   ],
   "source": [
    "print(PROMPT_SUFFIX)"
   ]
  },
  {
   "cell_type": "code",
   "execution_count": 184,
   "id": "1899e2fd",
   "metadata": {},
   "outputs": [],
   "source": [
    "from langchain.prompts.prompt import PromptTemplate\n",
    "\n",
    "example_prompt = PromptTemplate(\n",
    "    input_variables=[\"Question\", \"SQLQuery\", \"SQLResult\",\"Answer\",],\n",
    "    template=\"\\nQuestion: {Question}\\nSQLQuery: {SQLQuery}\\nSQLResult: {SQLResult}\\nAnswer: {Answer}\",\n",
    ")"
   ]
  },
  {
   "cell_type": "code",
   "execution_count": null,
   "id": "474c1215",
   "metadata": {},
   "outputs": [],
   "source": []
  },
  {
   "cell_type": "code",
   "execution_count": 186,
   "id": "789e182a",
   "metadata": {},
   "outputs": [],
   "source": [
    "from langchain.prompts import FewShotPromptTemplate\n",
    "\n",
    "few_shot_prompt = FewShotPromptTemplate(\n",
    "    example_selector=example_selector,\n",
    "    example_prompt=example_prompt,\n",
    "    prefix=_mysql_prompt,\n",
    "    suffix=PROMPT_SUFFIX,\n",
    "    input_variables=[\"input\", \"table_info\", \"top_k\"], #These variables are used in the prefix and suffix\n",
    ")"
   ]
  },
  {
   "cell_type": "code",
   "execution_count": null,
   "id": "2498df8a",
   "metadata": {},
   "outputs": [],
   "source": []
  },
  {
   "cell_type": "code",
   "execution_count": 188,
   "id": "cff128b2",
   "metadata": {},
   "outputs": [],
   "source": [
    "# Create new chain\n",
    "\n",
    "new_chain = SQLDatabaseChain.from_llm(llm, db, verbose=True, prompt=few_shot_prompt)"
   ]
  },
  {
   "cell_type": "code",
   "execution_count": 192,
   "id": "d261a1d9",
   "metadata": {},
   "outputs": [
    {
     "name": "stdout",
     "output_type": "stream",
     "text": [
      "\n",
      "\n",
      "\u001b[1m> Entering new SQLDatabaseChain chain...\u001b[0m\n",
      "Find out the total number of students standard wise who attend coaching classes\n",
      "SQLQuery:\u001b[32;1m\u001b[1;3mSELECT standard, COUNT(*) FROM students WHERE coaching_class = 'Yes' GROUP BY standard\u001b[0m\n",
      "SQLResult: \u001b[33;1m\u001b[1;3m[('8th', 13), ('7th', 11), ('6th', 14)]\u001b[0m\n",
      "Answer:\u001b[32;1m\u001b[1;3m38\u001b[0m\n",
      "\u001b[1m> Finished chain.\u001b[0m\n"
     ]
    },
    {
     "data": {
      "text/plain": [
       "'38'"
      ]
     },
     "execution_count": 192,
     "metadata": {},
     "output_type": "execute_result"
    }
   ],
   "source": [
    "new_qu14 = new_chain.run(\"Find out the total number of students standard wise who attend coaching classes\")\n",
    "new_qu14"
   ]
  },
  {
   "cell_type": "code",
   "execution_count": 200,
   "id": "77175888",
   "metadata": {},
   "outputs": [
    {
     "name": "stdout",
     "output_type": "stream",
     "text": [
      "\n",
      "\n",
      "\u001b[1m> Entering new SQLDatabaseChain chain...\u001b[0m\n",
      "Determine the top three rankers in terms of total marks among students of class 8th\n",
      "SQLQuery:\u001b[32;1m\u001b[1;3mSELECT m.student_id, s.student_name, '8th' AS class, SUM(m.marks_obtained) AS total_marks FROM marks m JOIN students s ON m.student_id = s.student_id WHERE s.standard = '8th' GROUP BY m.student_id, s.student_name ORDER BY total_marks DESC LIMIT 3\u001b[0m\n",
      "SQLResult: \u001b[33;1m\u001b[1;3m[('EI20', 'Abhi Karve', '8th', Decimal('434')), ('EI18', 'Kishor Kumar', '8th', Decimal('393')), ('EI01', 'Piyusha Kadam', '8th', Decimal('389'))]\u001b[0m\n",
      "Answer:\u001b[32;1m\u001b[1;3mAbhi Karve, Kishor Kumar, Piyusha Kadam\u001b[0m\n",
      "\u001b[1m> Finished chain.\u001b[0m\n"
     ]
    }
   ],
   "source": [
    "new_qu20 = new_chain(\"Determine the top three rankers in terms of total marks among students of class 8th\")\n",
    "new_qu20"
   ]
  },
  {
   "cell_type": "code",
   "execution_count": 202,
   "id": "410d22e5",
   "metadata": {},
   "outputs": [
    {
     "name": "stdout",
     "output_type": "stream",
     "text": [
      "\n",
      "\n",
      "\u001b[1m> Entering new SQLDatabaseChain chain...\u001b[0m\n",
      "Determine the top three rankers in terms of total marks among students of class 8th\n",
      "SQLQuery:\u001b[32;1m\u001b[1;3mSELECT m.student_id, s.student_name, '8th' AS class, SUM(m.marks_obtained) AS total_marks FROM marks m JOIN students s ON m.student_id = s.student_id WHERE s.standard = '8th' GROUP BY m.student_id, s.student_name ORDER BY total_marks DESC LIMIT 3\u001b[0m\n",
      "SQLResult: \u001b[33;1m\u001b[1;3m[('EI20', 'Abhi Karve', '8th', Decimal('434')), ('EI18', 'Kishor Kumar', '8th', Decimal('393')), ('EI01', 'Piyusha Kadam', '8th', Decimal('389'))]\u001b[0m\n",
      "Answer:\u001b[32;1m\u001b[1;3mAbhi Karve, Kishor Kumar, Piyusha Kadam\u001b[0m\n",
      "\u001b[1m> Finished chain.\u001b[0m\n"
     ]
    },
    {
     "data": {
      "text/plain": [
       "'Abhi Karve, Kishor Kumar, Piyusha Kadam'"
      ]
     },
     "execution_count": 202,
     "metadata": {},
     "output_type": "execute_result"
    }
   ],
   "source": [
    "# askes question in different way\n",
    "new_chain.run(\"Determine the top three rankers in terms of total marks among students of class 8th\")"
   ]
  },
  {
   "cell_type": "code",
   "execution_count": 209,
   "id": "6281e649",
   "metadata": {},
   "outputs": [
    {
     "name": "stdout",
     "output_type": "stream",
     "text": [
      "\n",
      "\n",
      "\u001b[1m> Entering new SQLDatabaseChain chain...\u001b[0m\n",
      "Determine first rankers in terms of total marks among students of class 6th\n",
      "SQLQuery:\u001b[32;1m\u001b[1;3mSELECT m.student_id, s.student_name, '6th' AS class, SUM(m.marks_obtained) AS total_marks FROM marks m JOIN students s ON m.student_id = s.student_id WHERE s.standard = '6th' GROUP BY m.student_id, s.student_name ORDER BY total_marks DESC LIMIT 1\u001b[0m\n",
      "SQLResult: \u001b[33;1m\u001b[1;3m[('SI21', 'Seema Kadam', '6th', Decimal('398'))]\u001b[0m\n",
      "Answer:\u001b[32;1m\u001b[1;3mSeema Kadam\u001b[0m\n",
      "\u001b[1m> Finished chain.\u001b[0m\n"
     ]
    },
    {
     "data": {
      "text/plain": [
       "'Seema Kadam'"
      ]
     },
     "execution_count": 209,
     "metadata": {},
     "output_type": "execute_result"
    }
   ],
   "source": [
    "# asked in different way\n",
    "new_chain.run(\"Determine first rankers in terms of total marks among students of class 6th\")"
   ]
  },
  {
   "cell_type": "code",
   "execution_count": 211,
   "id": "f75b71ce",
   "metadata": {},
   "outputs": [
    {
     "name": "stdout",
     "output_type": "stream",
     "text": [
      "\n",
      "\n",
      "\u001b[1m> Entering new SQLDatabaseChain chain...\u001b[0m\n",
      "display the results of students SE01 and SE07 in a comparative form\n",
      "SQLQuery:\u001b[32;1m\u001b[1;3mSELECT subject_name, MAX(CASE WHEN student_id = 'SE01' THEN marks_obtained END) AS SE01_marks, MAX(CASE WHEN student_id = 'SE07' THEN marks_obtained END) AS SE07_marks, MAX(CASE WHEN student_id = 'SE01' THEN grade END) AS SE01_grade, MAX(CASE WHEN student_id = 'SE07' THEN grade END) AS SE07_grade FROM marks WHERE student_id IN ('SE01', 'SE07') GROUP BY subject_name\u001b[0m\n",
      "SQLResult: \u001b[33;1m\u001b[1;3m[('English', 53, 95, 'D', 'A'), ('Computer', 72, 96, 'B', 'A'), ('History', 38, 44, 'F', 'E'), ('Maths', 86, 91, 'A', 'A'), ('Science', 99, 49, 'A', 'E')]\u001b[0m\n",
      "Answer:\u001b[32;1m\u001b[1;3mEnglish, 53, 95, D, A\u001b[0m\n",
      "\u001b[1m> Finished chain.\u001b[0m\n"
     ]
    },
    {
     "data": {
      "text/plain": [
       "'English, 53, 95, D, A'"
      ]
     },
     "execution_count": 211,
     "metadata": {},
     "output_type": "execute_result"
    }
   ],
   "source": [
    "new_qu19 = new_chain.run(\"display the results of students SE01 and SE07 in a comparative form\")\n",
    "new_qu19"
   ]
  },
  {
   "cell_type": "code",
   "execution_count": 218,
   "id": "8e6128e4",
   "metadata": {},
   "outputs": [
    {
     "name": "stdout",
     "output_type": "stream",
     "text": [
      "\n",
      "\n",
      "\u001b[1m> Entering new SQLDatabaseChain chain...\u001b[0m\n",
      "Find the mean marks scored by 7th-grade students in each subject\n",
      "SQLQuery:\u001b[32;1m\u001b[1;3mSELECT subject_name, AVG(marks_obtained) AS mean_marks FROM marks JOIN students ON marks.student_id = students.student_id WHERE students.standard = '7th' GROUP BY subject_name\u001b[0m\n",
      "SQLResult: \u001b[33;1m\u001b[1;3m[('English', Decimal('69.3200')), ('Computer', Decimal('64.6000')), ('History', Decimal('58.2800')), ('Maths', Decimal('63.8400')), ('Science', Decimal('68.8000'))]\u001b[0m\n",
      "Answer:\u001b[32;1m\u001b[1;3mEnglish, 69.32\u001b[0m\n",
      "\u001b[1m> Finished chain.\u001b[0m\n"
     ]
    },
    {
     "data": {
      "text/plain": [
       "'English, 69.32'"
      ]
     },
     "execution_count": 218,
     "metadata": {},
     "output_type": "execute_result"
    }
   ],
   "source": [
    "# rewrit question with replacing average to mean3\n",
    "\n",
    "new_qu13 = new_chain.run(\"Find the mean marks scored by 7th-grade students in each subject\")\n",
    "new_qu13"
   ]
  },
  {
   "cell_type": "code",
   "execution_count": 219,
   "id": "f947c50c",
   "metadata": {},
   "outputs": [
    {
     "name": "stdout",
     "output_type": "stream",
     "text": [
      "\n",
      "\n",
      "\u001b[1m> Entering new SQLDatabaseChain chain...\u001b[0m\n",
      "what is percentage of student id SI07\n",
      "SQLQuery:\u001b[32;1m\u001b[1;3mSELECT s.student_id, s.student_name, ROUND((SUM(m.marks_obtained) / COUNT(m.mark_id)), 2) AS percentage FROM students s JOIN marks m USING(student_id) WHERE s.student_id = 'SI07'\u001b[0m\n",
      "SQLResult: \u001b[33;1m\u001b[1;3m[('SI07', 'Kabir Thapar', Decimal('49.20'))]\u001b[0m\n",
      "Answer:\u001b[32;1m\u001b[1;3m49.20\u001b[0m\n",
      "\u001b[1m> Finished chain.\u001b[0m\n"
     ]
    },
    {
     "data": {
      "text/plain": [
       "'49.20'"
      ]
     },
     "execution_count": 219,
     "metadata": {},
     "output_type": "execute_result"
    }
   ],
   "source": [
    "new_qu2 = new_chain.run(\"what is percentage of student id SI07\")\n",
    "new_qu2"
   ]
  },
  {
   "cell_type": "code",
   "execution_count": 220,
   "id": "070761d2",
   "metadata": {},
   "outputs": [
    {
     "name": "stdout",
     "output_type": "stream",
     "text": [
      "\n",
      "\n",
      "\u001b[1m> Entering new SQLDatabaseChain chain...\u001b[0m\n",
      "what is percentage of student Kabir Thapar\n",
      "SQLQuery:\u001b[32;1m\u001b[1;3mSELECT s.student_id, s.student_name, ROUND((SUM(m.marks_obtained) / COUNT(m.mark_id)), 2) AS percentage FROM students s JOIN marks m USING(student_id) WHERE s.student_id = 'SI07'\u001b[0m\n",
      "SQLResult: \u001b[33;1m\u001b[1;3m[('SI07', 'Kabir Thapar', Decimal('49.20'))]\u001b[0m\n",
      "Answer:\u001b[32;1m\u001b[1;3m49.20\u001b[0m\n",
      "\u001b[1m> Finished chain.\u001b[0m\n"
     ]
    }
   ],
   "source": [
    "# give student name instead of student id\n",
    "new_qu2 = new_chain.run(\"what is percentage of student Kabir Thapar\")"
   ]
  },
  {
   "cell_type": "code",
   "execution_count": 223,
   "id": "3a2a051e",
   "metadata": {},
   "outputs": [
    {
     "name": "stdout",
     "output_type": "stream",
     "text": [
      "\n",
      "\n",
      "\u001b[1m> Entering new SQLDatabaseChain chain...\u001b[0m\n",
      "Calculate the average marks of student id SI07\n",
      "SQLQuery:\u001b[32;1m\u001b[1;3mSELECT ROUND(AVG(marks_obtained), 2) AS average_marks FROM marks WHERE student_id = 'SI07'\u001b[0m\n",
      "SQLResult: \u001b[33;1m\u001b[1;3m[(Decimal('49.20'),)]\u001b[0m\n",
      "Answer:\u001b[32;1m\u001b[1;3m49.20\u001b[0m\n",
      "\u001b[1m> Finished chain.\u001b[0m\n"
     ]
    },
    {
     "data": {
      "text/plain": [
       "'49.20'"
      ]
     },
     "execution_count": 223,
     "metadata": {},
     "output_type": "execute_result"
    }
   ],
   "source": [
    "new_qu2 = new_chain.run(\"Calculate the average marks of student id SI07\")\n",
    "new_qu2"
   ]
  },
  {
   "cell_type": "code",
   "execution_count": null,
   "id": "7a67c240",
   "metadata": {},
   "outputs": [],
   "source": []
  }
 ],
 "metadata": {
  "kernelspec": {
   "display_name": "Python 3 (ipykernel)",
   "language": "python",
   "name": "python3"
  },
  "language_info": {
   "codemirror_mode": {
    "name": "ipython",
    "version": 3
   },
   "file_extension": ".py",
   "mimetype": "text/x-python",
   "name": "python",
   "nbconvert_exporter": "python",
   "pygments_lexer": "ipython3",
   "version": "3.10.9"
  }
 },
 "nbformat": 4,
 "nbformat_minor": 5
}
